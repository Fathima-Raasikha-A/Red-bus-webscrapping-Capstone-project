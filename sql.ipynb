{
 "cells": [
  {
   "cell_type": "markdown",
   "metadata": {},
   "source": [
    "### we have to merge the csv_files and clean and transform before putting inside the sql"
   ]
  },
  {
   "cell_type": "code",
   "execution_count": 1,
   "metadata": {},
   "outputs": [],
   "source": [
    "import pandas as pd\n",
    "import pymysql"
   ]
  },
  {
   "cell_type": "code",
   "execution_count": 20,
   "metadata": {},
   "outputs": [],
   "source": [
    "# Reading CSV files\n",
    "df1 = pd.read_csv(r\"C:\\Users\\razih\\OneDrive\\Desktop\\New\\ap_bus_details.csv\")\n",
    "df2 = pd.read_csv(r\"C:\\Users\\razih\\OneDrive\\Desktop\\New\\tel_bus_details.csv\")\n",
    "df3 = pd.read_csv(r\"C:\\Users\\razih\\OneDrive\\Desktop\\New\\ker_bus_details.csv\")\n",
    "df4 = pd.read_csv(r\"C:\\Users\\razih\\OneDrive\\Desktop\\New\\sbtc_bus_details.csv\")\n",
    "df5 = pd.read_csv(r\"C:\\Users\\razih\\OneDrive\\Desktop\\New\\wb_bus_details.csv\")\n",
    "df6 = pd.read_csv(r\"C:\\Users\\razih\\OneDrive\\Desktop\\New\\hr_bus_details.csv\")\n",
    "df7 = pd.read_csv(r\"C:\\Users\\razih\\OneDrive\\Desktop\\New\\bihar_bus_details.csv\")\n",
    "df8 = pd.read_csv(r\"C:\\Users\\razih\\OneDrive\\Desktop\\New\\rj_bus_details.csv\")\n",
    "df9 = pd.read_csv(r\"C:\\Users\\razih\\OneDrive\\Desktop\\New\\pep_bus_details.csv\")\n",
    "df10 = pd.read_csv(r\"C:\\Users\\razih\\OneDrive\\Desktop\\New\\up_bus_details.csv\")\n",
    "\n",
    "# Concatenating all the dataframes\n",
    "df = pd.concat([df1, df2, df3, df4, df5, df6, df7, df8, df9, df10], ignore_index=True)"
   ]
  },
  {
   "cell_type": "code",
   "execution_count": 21,
   "metadata": {},
   "outputs": [],
   "source": [
    "\n",
    "#  Dropping the  rows only  'Bus_Name' is null\n",
    "df = df.dropna(subset=['Bus_Name'])\n",
    "\n",
    "# Extract digits from 'Price' and convert to float\n",
    "df['Price'] = df['Price'].str.replace('INR',\" \").astype(float)\n",
    "\n",
    "# replace any remaining nulls with 0\n",
    "df.fillna(0, inplace=True)\n",
    "\n",
    "# extract the seat numbers\n",
    "df['Seat_Availability'] = df['Seat_Availability'].str.extract(r'(\\d+)')\n",
    "\n",
    "# Step 5: Convert 'Star_Ratings' to float\n",
    "df['Star_Ratings'] = df['Star_Ratings'].astype(float)\n"
   ]
  },
  {
   "cell_type": "code",
   "execution_count": 25,
   "metadata": {},
   "outputs": [],
   "source": [
    "df.to_csv(\"DF1.csv\")"
   ]
  },
  {
   "cell_type": "code",
   "execution_count": 1,
   "metadata": {},
   "outputs": [
    {
     "name": "stdout",
     "output_type": "stream",
     "text": [
      "Collecting pymysql\n",
      "  Downloading PyMySQL-1.1.1-py3-none-any.whl.metadata (4.4 kB)\n",
      "Downloading PyMySQL-1.1.1-py3-none-any.whl (44 kB)\n",
      "Installing collected packages: pymysql\n",
      "Successfully installed pymysql-1.1.1\n",
      "Note: you may need to restart the kernel to use updated packages.\n"
     ]
    }
   ],
   "source": [
    "%pip install pymysql"
   ]
  },
  {
   "cell_type": "code",
   "execution_count": 26,
   "metadata": {},
   "outputs": [
    {
     "name": "stdout",
     "output_type": "stream",
     "text": [
      "('bus_detail',)\n",
      "('bus_details',)\n"
     ]
    }
   ],
   "source": [
    "import pandas as pd\n",
    "import pymysql\n",
    "\n",
    "# Database connection details\n",
    "connection = pymysql.connect(\n",
    "    host=\"localhost\",          # Change to your MySQL host\n",
    "    user=\"root\",               # Your MySQL username\n",
    "    password=\"123456789\",      # Your MySQL password\n",
    "    database=\"red_bus\"         # Database name\n",
    ")\n",
    "\n",
    "# Connect to MySQL\n",
    "cursor = connection.cursor()\n",
    "\n",
    "# Example query\n",
    "query = \"SHOW TABLES;\"  # Change this to any SQL query you want to run\n",
    "cursor.execute(query)\n",
    "\n",
    "# Fetch results\n",
    "results = cursor.fetchall()\n",
    "\n",
    "# Print results\n",
    "for row in results:\n",
    "    print(row)\n",
    "\n",
    "# Close the connection\n",
    "cursor.close()\n",
    "connection.close()"
   ]
  },
  {
   "cell_type": "code",
   "execution_count": null,
   "metadata": {},
   "outputs": [],
   "source": []
  },
  {
   "cell_type": "code",
   "execution_count": 29,
   "metadata": {},
   "outputs": [
    {
     "name": "stderr",
     "output_type": "stream",
     "text": [
      "C:\\Users\\razih\\AppData\\Local\\Temp\\ipykernel_15380\\1451231310.py:7: UserWarning: Could not infer format, so each element will be parsed individually, falling back to `dateutil`. To ensure parsing is consistent and as-expected, please specify a format.\n",
      "  df['Departure'] = pd.to_datetime(df['Departure'], errors='coerce').dt.time\n",
      "C:\\Users\\razih\\AppData\\Local\\Temp\\ipykernel_15380\\1451231310.py:8: UserWarning: Could not infer format, so each element will be parsed individually, falling back to `dateutil`. To ensure parsing is consistent and as-expected, please specify a format.\n",
      "  df['Reach'] = pd.to_datetime(df['Reach'], errors='coerce').dt.time\n"
     ]
    }
   ],
   "source": [
    "import pandas as pd\n",
    "import pymysql\n",
    "\n",
    "# Load the CSV file\n",
    "df = pd.read_csv(r'C:\\Users\\razih\\OneDrive\\Desktop\\New\\DF1.csv')\n",
    "\n",
    "df['Departure'] = pd.to_datetime(df['Departure'], errors='coerce').dt.time\n",
    "df['Reach'] = pd.to_datetime(df['Reach'], errors='coerce').dt.time\n",
    "\n",
    "# Convert 'Seat_Availability' to numeric (int)\n",
    "df['Seat_Availability'] = pd.to_numeric(df['Seat_Availability'], errors='coerce').fillna(0).astype(int)\n",
    "\n",
    "\n",
    "# Database connection\n",
    "connection = pymysql.connect(\n",
    "    host = \"localhost\", \n",
    "    user = \"root\",       \n",
    "    password = \"123456789\",  \n",
    "    database = \"red_bus\" \n",
    ")\n",
    "\n",
    "# Connect to MySQL\n",
    "cursor = connection.cursor()\n",
    "\n",
    "# Create table SQL query\n",
    "create_query = \"\"\" CREATE TABLE IF NOT EXISTS bus_data (\n",
    "                                    id INT AUTO_INCREMENT PRIMARY KEY,\n",
    "                                    Route_Name VARCHAR(255),Route_Link TEXT,\n",
    "                                    Bus_Name VARCHAR(255),Bus_Type VARCHAR(255),\n",
    "                                    Departure TIME,Duration VARCHAR(50),Reach TIME,\n",
    "                                    Star_Ratings FLOAT,Price FLOAT,Seat_Availability INT); \"\"\"\n",
    "cursor.execute(create_query)\n",
    "\n",
    "# Insert data into the table\n",
    "insert_query = \"\"\" INSERT INTO bus_data (Route_Name, Route_Link, Bus_Name, Bus_Type, Departure,\n",
    "                                    Duration, Reach, Star_Ratings, Price, Seat_Availability) \n",
    "                                    VALUES (%s, %s, %s, %s, %s, %s, %s, %s, %s, %s); \"\"\"\n",
    "\n",
    "for i, row in df.iterrows():\n",
    "    cursor.execute(insert_query, (\n",
    "        row['Route_Name'], row['Route_Link'], row['Bus_Name'], row['Bus_Type'],\n",
    "        row['Departure'], row['Duration'], row['Reach'], \n",
    "        row['Star_Ratings'], row['Price'], row['Seat_Availability']\n",
    "    ))\n",
    "\n",
    "# Commit changes and close connection\n",
    "connection.commit()\n",
    "cursor.close()\n",
    "connection.close()\n"
   ]
  }
 ],
 "metadata": {
  "kernelspec": {
   "display_name": ".venv",
   "language": "python",
   "name": "python3"
  },
  "language_info": {
   "codemirror_mode": {
    "name": "ipython",
    "version": 3
   },
   "file_extension": ".py",
   "mimetype": "text/x-python",
   "name": "python",
   "nbconvert_exporter": "python",
   "pygments_lexer": "ipython3",
   "version": "3.12.7"
  }
 },
 "nbformat": 4,
 "nbformat_minor": 2
}
